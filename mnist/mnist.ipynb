{
 "cells": [
  {
   "cell_type": "code",
   "execution_count": 1,
   "metadata": {},
   "outputs": [],
   "source": [
    "%matplotlib inline\n",
    "import numpy as np\n",
    "import sklearn as skl\n",
    "import matplotlib.pyplot as plt"
   ]
  },
  {
   "cell_type": "code",
   "execution_count": 2,
   "metadata": {},
   "outputs": [],
   "source": [
    "train_path = 'mnist'\n",
    "test_path = 'mnist.t'\n",
    "data_dim = 784\n",
    "\n",
    "def reader(path):\n",
    "    data_img = []\n",
    "    data_label = []\n",
    "    with open(str(path),'r') as FP:\n",
    "        for line in FP:\n",
    "            segment = line.split(' ')\n",
    "            label = segment[0]\n",
    "            img = np.zeros(data_dim, dtype=np.float32)\n",
    "            for v in segment[1:]:\n",
    "                index, value = v.split(':')\n",
    "                img[int(index)] = float(value) / 255.\n",
    "            data_img.append(img)\n",
    "            data_label.append(label)\n",
    "    return np.array(data_img), np.array(data_label)\n",
    "\n"
   ]
  },
  {
   "cell_type": "code",
   "execution_count": 3,
   "metadata": {},
   "outputs": [
    {
     "name": "stdout",
     "output_type": "stream",
     "text": [
      "60000\n",
      "10000\n"
     ]
    }
   ],
   "source": [
    "training_img, training_label = reader(train_path)\n",
    "testing_img, testing_label = reader(test_path)\n",
    "print len(training_img)\n",
    "print len(testing_img)"
   ]
  },
  {
   "cell_type": "code",
   "execution_count": 4,
   "metadata": {},
   "outputs": [
    {
     "name": "stdout",
     "output_type": "stream",
     "text": [
      "Information left:  0.643581\n"
     ]
    }
   ],
   "source": [
    "from sklearn.decomposition import PCA\n",
    "pca = PCA(n_components=20)\n",
    "reduced_train_img = pca.fit_transform(training_img)\n",
    "print 'Information left: ', np.sum(pca.explained_variance_ratio_)"
   ]
  },
  {
   "cell_type": "code",
   "execution_count": 5,
   "metadata": {},
   "outputs": [
    {
     "name": "stdout",
     "output_type": "stream",
     "text": [
      "[LibSVM]CPU times: user 29.1 s, sys: 292 ms, total: 29.3 s\n",
      "Wall time: 29.6 s\n"
     ]
    },
    {
     "data": {
      "text/plain": [
       "SVC(C=1.0, cache_size=200, class_weight=None, coef0=0.0,\n",
       "  decision_function_shape='ovr', degree=3, gamma='auto', kernel='rbf',\n",
       "  max_iter=-1, probability=False, random_state=None, shrinking=True,\n",
       "  tol=0.001, verbose=True)"
      ]
     },
     "execution_count": 5,
     "metadata": {},
     "output_type": "execute_result"
    }
   ],
   "source": [
    "from sklearn.svm import SVC\n",
    "clf = SVC(verbose=True)\n",
    "%time clf.fit(reduced_train_img, training_label)\n"
   ]
  },
  {
   "cell_type": "code",
   "execution_count": 6,
   "metadata": {},
   "outputs": [
    {
     "name": "stdout",
     "output_type": "stream",
     "text": [
      "score on testing set: 0.9801\n"
     ]
    }
   ],
   "source": [
    "mean_score_on_testing_set = clf.score(pca.transform(testing_img), testing_label)\n",
    "print 'score on testing set:', mean_score_on_testing_set"
   ]
  },
  {
   "cell_type": "code",
   "execution_count": 7,
   "metadata": {},
   "outputs": [
    {
     "name": "stdout",
     "output_type": "stream",
     "text": [
      "[[ 972    0    1    1    0    2    2    1    1    0]\n",
      " [   0 1129    2    2    0    0    0    0    1    1]\n",
      " [   2    0 1014    2    1    1    0    8    4    0]\n",
      " [   0    0    2  996    0    3    0    6    2    1]\n",
      " [   0    0    2    0  961    0    2    0    1   16]\n",
      " [   2    0    0   10    1  870    2    1    5    1]\n",
      " [   5    3    1    0    4    2  941    0    2    0]\n",
      " [   0    4    9    0    2    0    0 1000    1   12]\n",
      " [   2    0    2    4    4    4    1    2  953    2]\n",
      " [   2    5    0    5   15    3    1   10    3  965]]\n",
      "             precision    recall  f1-score   support\n",
      "\n",
      "          0       0.99      0.99      0.99       980\n",
      "          1       0.99      0.99      0.99      1135\n",
      "          2       0.98      0.98      0.98      1032\n",
      "          3       0.98      0.99      0.98      1010\n",
      "          4       0.97      0.98      0.98       982\n",
      "          5       0.98      0.98      0.98       892\n",
      "          6       0.99      0.98      0.99       958\n",
      "          7       0.97      0.97      0.97      1028\n",
      "          8       0.98      0.98      0.98       974\n",
      "          9       0.97      0.96      0.96      1009\n",
      "\n",
      "avg / total       0.98      0.98      0.98     10000\n",
      "\n"
     ]
    }
   ],
   "source": [
    "predicted = clf.predict(pca.transform(testing_img))\n",
    "confusion_metrix = skl.metrics.confusion_matrix(testing_label, predicted)\n",
    "print confusion_metrix\n",
    "inclass_precision = skl.metrics.classification_report(testing_label, predicted)\n",
    "print inclass_precision"
   ]
  },
  {
   "cell_type": "code",
   "execution_count": null,
   "metadata": {},
   "outputs": [],
   "source": []
  }
 ],
 "metadata": {
  "kernelspec": {
   "display_name": "Python 2",
   "language": "python",
   "name": "python2"
  },
  "language_info": {
   "codemirror_mode": {
    "name": "ipython",
    "version": 2
   },
   "file_extension": ".py",
   "mimetype": "text/x-python",
   "name": "python",
   "nbconvert_exporter": "python",
   "pygments_lexer": "ipython2",
   "version": "2.7.10"
  }
 },
 "nbformat": 4,
 "nbformat_minor": 2
}
