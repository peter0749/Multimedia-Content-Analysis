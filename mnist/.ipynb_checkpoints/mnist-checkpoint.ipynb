{
 "cells": [
  {
   "cell_type": "code",
   "execution_count": 46,
   "metadata": {},
   "outputs": [],
   "source": [
    "%matplotlib inline\n",
    "import numpy as np\n",
    "import sklearn as skl\n",
    "import matplotlib.pyplot as plt"
   ]
  },
  {
   "cell_type": "code",
   "execution_count": 47,
   "metadata": {},
   "outputs": [],
   "source": [
    "train_path = 'mnist'\n",
    "test_path = 'mnist.t'\n",
    "data_dim = 784\n",
    "\n",
    "def reader(path):\n",
    "    data_img = []\n",
    "    data_label = []\n",
    "    with open(str(path),'r') as FP:\n",
    "        for line in FP:\n",
    "            segment = line.split(' ')\n",
    "            label = segment[0]\n",
    "            img = np.zeros(data_dim, dtype=np.float32)\n",
    "            for v in segment[1:]:\n",
    "                index, value = v.split(':')\n",
    "                img[int(index)] = float(value) / 255.\n",
    "            data_img.append(img)\n",
    "            data_label.append(label)\n",
    "    return np.array(data_img), np.array(data_label)\n",
    "\n"
   ]
  },
  {
   "cell_type": "code",
   "execution_count": 48,
   "metadata": {},
   "outputs": [
    {
     "name": "stdout",
     "output_type": "stream",
     "text": [
      "60000\n",
      "10000\n"
     ]
    }
   ],
   "source": [
    "training_img, training_label = reader(train_path)\n",
    "testing_img, testing_label = reader(test_path)\n",
    "print len(training_img)\n",
    "print len(testing_img)"
   ]
  },
  {
   "cell_type": "code",
   "execution_count": 49,
   "metadata": {},
   "outputs": [
    {
     "name": "stdout",
     "output_type": "stream",
     "text": [
      "Infomation left:  0.902061\n"
     ]
    }
   ],
   "source": [
    "from sklearn.decomposition import PCA\n",
    "pca = PCA(n_components=128)\n",
    "reduced_train_img = pca.fit_transform(training_img)\n",
    "print 'Infomation left: ', np.sum(pca.explained_variance_ratio_)"
   ]
  },
  {
   "cell_type": "code",
   "execution_count": 50,
   "metadata": {},
   "outputs": [
    {
     "name": "stdout",
     "output_type": "stream",
     "text": [
      "[LibSVM]"
     ]
    },
    {
     "data": {
      "text/plain": [
       "SVC(C=1.0, cache_size=200, class_weight=None, coef0=0.0,\n",
       "  decision_function_shape='ovr', degree=3, gamma='auto', kernel='rbf',\n",
       "  max_iter=-1, probability=False, random_state=None, shrinking=True,\n",
       "  tol=0.001, verbose=True)"
      ]
     },
     "execution_count": 50,
     "metadata": {},
     "output_type": "execute_result"
    }
   ],
   "source": [
    "from sklearn.svm import SVC\n",
    "clf = SVC(verbose=True)\n",
    "clf.fit(reduced_train_img, training_label)\n"
   ]
  },
  {
   "cell_type": "code",
   "execution_count": 43,
   "metadata": {},
   "outputs": [
    {
     "name": "stdout",
     "output_type": "stream",
     "text": [
      "score on testing set: 0.9737\n"
     ]
    }
   ],
   "source": [
    "mean_score_on_testing_set = clf.score(pca.transform(testing_img), testing_label)\n",
    "print 'score on testing set:', mean_score_on_testing_set"
   ]
  },
  {
   "cell_type": "code",
   "execution_count": 45,
   "metadata": {},
   "outputs": [
    {
     "name": "stdout",
     "output_type": "stream",
     "text": [
      "[[ 972    0    2    0    0    2    1    1    2    0]\n",
      " [   0 1126    3    1    0    1    1    1    2    0]\n",
      " [   4    1 1006    3    2    0    2    9    4    1]\n",
      " [   0    0    4  984    0    5    0    8    6    3]\n",
      " [   2    0    5    0  955    0    3    0    2   15]\n",
      " [   6    1    1   12    1  859    5    0    5    2]\n",
      " [   6    2    1    0    2    4  942    0    1    0]\n",
      " [   1    9   17    3    2    0    0  986    0   10]\n",
      " [   3    0    2    6    5    5    4    3  944    2]\n",
      " [   4    4    2    7   15    2    1    6    5  963]]\n",
      "             precision    recall  f1-score   support\n",
      "\n",
      "          0       0.97      0.99      0.98       980\n",
      "          1       0.99      0.99      0.99      1135\n",
      "          2       0.96      0.97      0.97      1032\n",
      "          3       0.97      0.97      0.97      1010\n",
      "          4       0.97      0.97      0.97       982\n",
      "          5       0.98      0.96      0.97       892\n",
      "          6       0.98      0.98      0.98       958\n",
      "          7       0.97      0.96      0.97      1028\n",
      "          8       0.97      0.97      0.97       974\n",
      "          9       0.97      0.95      0.96      1009\n",
      "\n",
      "avg / total       0.97      0.97      0.97     10000\n",
      "\n"
     ]
    }
   ],
   "source": [
    "predicted = clf.predict(pca.transform(testing_img))\n",
    "confusion_metrix = skl.metrics.confusion_matrix(testing_label, predicted)\n",
    "print confusion_metrix\n",
    "inclass_precision = skl.metrics.classification_report(testing_label, predicted)\n",
    "print inclass_precision"
   ]
  },
  {
   "cell_type": "code",
   "execution_count": null,
   "metadata": {},
   "outputs": [],
   "source": []
  }
 ],
 "metadata": {
  "kernelspec": {
   "display_name": "Python 2",
   "language": "python",
   "name": "python2"
  },
  "language_info": {
   "codemirror_mode": {
    "name": "ipython",
    "version": 2
   },
   "file_extension": ".py",
   "mimetype": "text/x-python",
   "name": "python",
   "nbconvert_exporter": "python",
   "pygments_lexer": "ipython2",
   "version": "2.7.10"
  }
 },
 "nbformat": 4,
 "nbformat_minor": 2
}
